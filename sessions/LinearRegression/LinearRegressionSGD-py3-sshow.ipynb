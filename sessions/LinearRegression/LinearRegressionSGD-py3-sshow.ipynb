{
 "cells": [
  {
   "cell_type": "markdown",
   "metadata": {
    "slideshow": {
     "slide_type": "slide"
    }
   },
   "source": [
    "<center>\n",
    "    <span style=\"color:blue; font-family:Georgia;  font-size:2em;\"><h1>\n",
    "        Solving Linear Regression Problems with Stochastic Gradient Descent</h1></span>\n",
    " </center>\n",
    "        <p> </p>\n",
    "        <p> </p>\n",
    "        <center><span style=\"color:blue; font-family:Georgia;  font-size:1em;\">\n",
    "        Ramon Béjar</span></center>\n",
    "        <canvas id=\"myCanvas\" width=\"200\" height=\"100\" style=\"border:0px solid\"></canvas>\n",
    "        <center>Data mining - Master on Computer Science</center>\n",
    "        <center><img src=\"M-UdL2.png\"  width=\"200\" alt=\"UdL Logo\"></center>"
   ]
  },
  {
   "cell_type": "markdown",
   "metadata": {
    "slideshow": {
     "slide_type": "slide"
    }
   },
   "source": [
    "In this notebook we discuss the problem of solving linear regression problems with fast optimization methods that however are, in general, approximate: they give solutions  close to the optimal one, in general, but not always equal to.\n",
    "\n",
    "In a linear regression problem, we are given a series of $m$ n-dimensional points (represented as a $m \\times n$ matrix X) and a corresponding $m$-dimensional column vector $Y$, where each value $Y_i$ in $Y$ corresponds to the target value associated with point $X_i$ (row i of matrix X).\n"
   ]
  },
  {
   "cell_type": "markdown",
   "metadata": {
    "slideshow": {
     "slide_type": "subslide"
    }
   },
   "source": [
    "A linear model for fitting $X$ with $Y$ is a linear equation with $n$ parameters $\\beta^j$ of this kind:\n",
    "\n",
    "$$ \\hat{Y_i} = \\sum_{j=1}^{n} \\beta^j X_i^j $$\n",
    "\n",
    "where $  \\hat{Y_i} $ stands for the predicted value for $Y_i$, that could be not equal to the *real* value $Y_i$ if our linear model does not fit perfectly. Of course, it may be the case that there is no linear model that fits with our data perfectly."
   ]
  },
  {
   "cell_type": "markdown",
   "metadata": {
    "slideshow": {
     "slide_type": "subslide"
    }
   },
   "source": [
    "Using matrix notation, we can express the set of $m$ predicted values as a column vector of $m$ values as follows:\n",
    "$$   \\begin{pmatrix}\n",
    "      X_1^1 X_1^2 \\ldots X_1^n \\\\\n",
    "        \\vdots        \\vdots \\vdots \\\\     \n",
    "       X_m^1 X_m^2 \\ldots X_m^n\n",
    "    \\end{pmatrix}  \\times \n",
    "     \\begin{pmatrix}\n",
    "      \\beta^1 \\\\\n",
    "       \\vdots \\\\\n",
    "       \\beta^n\n",
    "     \\end{pmatrix} =   \\begin{pmatrix}\n",
    "      \\hat{Y_1} \\\\\n",
    "       \\vdots \\\\\n",
    "       \\hat{Y_m}\n",
    "     \\end{pmatrix}\n",
    "$$\n",
    "So, the predicted value $ \\hat{Y_i} $ is the result of multiplying the row $X_i$ by the column vector $\\beta$:\n",
    "$$\n",
    " \\hat{Y_i}  =  X_i \\beta\n",
    "$$"
   ]
  },
  {
   "cell_type": "markdown",
   "metadata": {
    "slideshow": {
     "slide_type": "subslide"
    }
   },
   "source": [
    "The goal is to find an optimal solution for this problem, where the usual function to measure the quality of a solution is the Mean Square Error (MSE):\n",
    "\n",
    "$$ \\frac{\\sum_{i=1}^m ( \\hat{Y_i} - Y_i )^2}{2 m} =  \\frac{\\sum_{i=1}^m (X_i \\beta - Y_i )^2}{2 m}  $$\n",
    "\n",
    "Obviously, if there exists a linear model (given by the values in $\\beta$) to fit X with Y then its MSE will be 0. If there is no a pure linear model, we still would like to find one with the smallest MSE."
   ]
  },
  {
   "cell_type": "markdown",
   "metadata": {
    "slideshow": {
     "slide_type": "subslide"
    }
   },
   "source": [
    "In principle, the best possible linear problem can be found exactly by solving the closed form solution of the minimization problem:\n",
    "\n",
    "$$ \\hat{\\beta} = \\underset{\\beta}{\\operatorname{\\arg\\min}} \\| X \\beta -Y \\|_{2} =  \\underset{\\beta}{\\operatorname{\\arg\\min}} \\sum_{i=1}^m (X_i \\beta - Y_i )^2 $$"
   ]
  },
  {
   "cell_type": "markdown",
   "metadata": {
    "slideshow": {
     "slide_type": "fragment"
    }
   },
   "source": [
    "The closed form solution for the above problem is given by:"
   ]
  },
  {
   "cell_type": "markdown",
   "metadata": {
    "slideshow": {
     "slide_type": "fragment"
    }
   },
   "source": [
    "$$ \\hat{\\beta}=(X^{T}X)^{-1}X^{T}Y $$"
   ]
  },
  {
   "cell_type": "markdown",
   "metadata": {
    "slideshow": {
     "slide_type": "subslide"
    }
   },
   "source": [
    "But the problem is that the time complexity to solve such matrix equation is $ O(n^3+(n^2)m) $.\n",
    "\n",
    "So, it is clear that such computation is infeasible if we are dealing with big data sets (big m) with many features per point (big n). Instead, we can try to find an **approximation** for $ \\hat{\\beta} \\ \\ $ using an approximation algorithm that tries to find a solution with a good MSE."
   ]
  },
  {
   "cell_type": "markdown",
   "metadata": {
    "slideshow": {
     "slide_type": "fragment"
    }
   },
   "source": [
    "The approximation method we pick is the Stochastic Gradient Descend (SGD) algorithm, that is also the base of different algorithms for learning (deep) neural network problems. \n",
    "The nice property is that for this problem the error function is convex and we know that the basic gradient descent algorithm will converge, with enough time, to the optimal solution if we pick an *small enough* value for a crucial parameter: the learning rate. For the stochastic variant (SGD), convergence may be slower. \n"
   ]
  },
  {
   "cell_type": "markdown",
   "metadata": {
    "slideshow": {
     "slide_type": "slide"
    }
   },
   "source": [
    "## Stochastic Gradient Descend algorithm for linear regression\n",
    "\n",
    "To understand how SGD is used to find a linear model from $X$ and $Y$, we first need to fix the error function that it uses to measure the error obtained with a particular linear model $\\beta$. We pick our previous square error function:\n",
    "\n",
    "$$ Error(\\beta,X,Y) = \\frac{1}{2m} \\sum_{i=1}^m (X_i \\beta - Y_i )^2 $$\n",
    "\n",
    "that is, the mean square error. In SGD, we try to find a good model $\\beta$ by starting with an arbitrary model $\\beta_0$, and then in successive iterations modify the $n$ parameters of $\\beta$ in such a way that the error function descends a little bit in every iteration. \n",
    "\n",
    "\n"
   ]
  },
  {
   "cell_type": "markdown",
   "metadata": {
    "slideshow": {
     "slide_type": "subslide"
    }
   },
   "source": [
    "For finding how to modify each parameter $\\beta^j$, SGD uses the partial derivative function of the error function with respect to each parameter $\\beta^j$:\n",
    "\n",
    "$$ \\frac{\\partial Error(\\beta,X,Y)}{\\partial \\beta^j} = \\frac{1}{m}\\sum_{i=1}^m (X_i \\beta - Y_i ) X_{i,j} $$\n",
    "\n",
    "This partial derivative function indicates us how much the error increases if we increase a little bit the parameter $\\beta^j$. So, if we modify $\\beta^j$ in the **opposite direction of this partial derivative**, we will decrease the error."
   ]
  },
  {
   "cell_type": "markdown",
   "metadata": {
    "slideshow": {
     "slide_type": "subslide"
    }
   },
   "source": [
    "Actually, SGD uses a learning parameter $\\alpha$ to modify a little bit the amount of change produced in every iteration. That is, it modifies the  value of $\\beta^j$ at the current iteration $t$ (call it $\\beta^j(t)$) in this way:\n",
    "\n",
    "$$ \\beta^j(t+1) = \\beta^j(t) - \\alpha \\frac{\\partial Error(\\beta(t),X,Y)}{\\partial \\beta^j}  $$"
   ]
  },
  {
   "cell_type": "markdown",
   "metadata": {
    "slideshow": {
     "slide_type": "slide"
    }
   },
   "source": [
    "## Gradient Descend Simple Example (one parameter)\n",
    "\n"
   ]
  },
  {
   "cell_type": "code",
   "execution_count": 1,
   "metadata": {
    "slideshow": {
     "slide_type": "skip"
    }
   },
   "outputs": [],
   "source": [
    "%matplotlib inline\n",
    "from matplotlib import pyplot as plt\n",
    "import numpy as np\n",
    "import math"
   ]
  },
  {
   "cell_type": "markdown",
   "metadata": {
    "slideshow": {
     "slide_type": "fragment"
    }
   },
   "source": [
    "Square error function for a fixed sample point $(x_0,y_0) $ and linear model $y=\\beta^1 x$:\n",
    "$$ Error(\\theta,(x_0,y_0) ) = \\frac{1}{2} (\\beta^1 x_0 - y_0 )^2 $$\n",
    "\n",
    "Partial derivative with respect to $\\beta^1$ parameter:\n",
    "$$ \\frac{\\partial  Error(\\beta,(x_0,y_0) )}{\\partial \\beta^1} =  (\\beta^1 x_0 - y_0 )x_0 $$"
   ]
  },
  {
   "cell_type": "code",
   "execution_count": 2,
   "metadata": {
    "slideshow": {
     "slide_type": "fragment"
    }
   },
   "outputs": [],
   "source": [
    "# Define Square error function for a given beta^1 value and fixed point\n",
    "def SError(beta,point):\n",
    "      return 0.5* math.pow( beta*point[0]-point[1] ,2.0)\n",
    "    \n",
    "# Define gradient (derivative) with respect to beta^1    \n",
    "def gradient(beta,point):\n",
    "    return ( ( beta*point[0]-point[1] )* point[0] )"
   ]
  },
  {
   "cell_type": "markdown",
   "metadata": {
    "slideshow": {
     "slide_type": "subslide"
    }
   },
   "source": [
    "Let's now study the error function with respect to the $\\beta^1$ parameter (the point will be fixed), for the range of values $\\beta^1 \\in [-6,9]$ and the fixed point $(2,3)$"
   ]
  },
  {
   "cell_type": "code",
   "execution_count": 3,
   "metadata": {
    "slideshow": {
     "slide_type": "fragment"
    }
   },
   "outputs": [],
   "source": [
    "x = np.linspace(-6, 9, 50)"
   ]
  },
  {
   "cell_type": "code",
   "execution_count": 4,
   "metadata": {
    "slideshow": {
     "slide_type": "fragment"
    }
   },
   "outputs": [
    {
     "data": {
      "text/plain": [
       "[<matplotlib.lines.Line2D at 0x7f4e2a2f9400>]"
      ]
     },
     "execution_count": 4,
     "metadata": {},
     "output_type": "execute_result"
    },
    {
     "data": {
      "image/png": "[encoded data removed]",
      "text/plain": [
       "<Figure size 432x288 with 1 Axes>"
      ]
     },
     "metadata": {
      "needs_background": "light"
     },
     "output_type": "display_data"
    }
   ],
   "source": [
    "fig = plt.figure()\n",
    "plt.title(\"Error vs beta parameter\")\n",
    "plt.xlabel(\"beta\")\n",
    "plt.xticks(np.arange(min(x), max(x)+1.0, 1.0))\n",
    "y = []\n",
    "plt.plot(x, [SError(v,(2.0,3.0)) for v in x]  , '-')"
   ]
  },
  {
   "cell_type": "markdown",
   "metadata": {
    "slideshow": {
     "slide_type": "subslide"
    }
   },
   "source": [
    "To visualize how the gradient indicates the speed of increase of error, let's compute the tangent line to a fixed value for $\\beta^1=\\beta_i$. We know that such line equation should satisfy:\n",
    "$$ Error(\\beta_i,(x_0,y_0)  ) = p \\beta_i + c  $$\n",
    "with $ p = gradient(\\beta_i,point) $\n",
    "\n",
    "So, the constant term for the tangent line is:\n",
    "$$ c =  Error(\\beta_i,(x_0,y_0)  )  - p \\beta_i $$"
   ]
  },
  {
   "cell_type": "code",
   "execution_count": 5,
   "metadata": {
    "slideshow": {
     "slide_type": "fragment"
    }
   },
   "outputs": [],
   "source": [
    "def tangentLine(betai,point,beta):\n",
    "    p = gradient(betai,point)\n",
    "    c =  SError(betai,point) -  p * betai \n",
    "    return p*beta + c"
   ]
  },
  {
   "cell_type": "markdown",
   "metadata": {
    "slideshow": {
     "slide_type": "subslide"
    }
   },
   "source": [
    "For example, assume we start with $\\beta^1 = 7.5$:"
   ]
  },
  {
   "cell_type": "code",
   "execution_count": 6,
   "metadata": {
    "slideshow": {
     "slide_type": "fragment"
    }
   },
   "outputs": [],
   "source": [
    "betai = 7.5"
   ]
  },
  {
   "cell_type": "code",
   "execution_count": 38,
   "metadata": {
    "slideshow": {
     "slide_type": "fragment"
    }
   },
   "outputs": [
    {
     "data": {
      "text/plain": [
       "[<matplotlib.lines.Line2D at 0x7f4e4d2abfa0>]"
      ]
     },
     "execution_count": 38,
     "metadata": {},
     "output_type": "execute_result"
    },
    {
     "data": {
      "image/png": "[encoded data removed]",
      "text/plain": [
       "<Figure size 432x288 with 1 Axes>"
      ]
     },
     "metadata": {
      "needs_background": "light"
     },
     "output_type": "display_data"
    }
   ],
   "source": [
    "fig = plt.figure()\n",
    "plt.title(\"Error vs theta parameter and tangent to 7.5\")\n",
    "plt.xlabel(\"beta\")\n",
    "plt.plot(x, [SError(v,(2.0,3.0)) for v in x], '-')\n",
    "x2 = np.linspace(betai-2.0, betai+2.0, 20)\n",
    "plt.xticks(np.arange(-9, 9, 1.0))\n",
    "plt.plot(x2, [tangentLine(betai,(2.0,3.0),v) for v in x2], '-')"
   ]
  },
  {
   "cell_type": "markdown",
   "metadata": {
    "slideshow": {
     "slide_type": "subslide"
    }
   },
   "source": [
    "Observe that the minimun of the Error function is obtained for $\\beta=3/2$, so in this case:"
   ]
  },
  {
   "cell_type": "code",
   "execution_count": 8,
   "metadata": {
    "slideshow": {
     "slide_type": "fragment"
    }
   },
   "outputs": [
    {
     "name": "stdout",
     "output_type": "stream",
     "text": [
      "Error :  0.0  gradient :  0.0\n"
     ]
    }
   ],
   "source": [
    "point=(2.0,3.0)\n",
    "print( \"Error : \",SError(3.0/2.0, point) , \" gradient : \", gradient(3.0/2.0,point))"
   ]
  },
  {
   "cell_type": "markdown",
   "metadata": {
    "slideshow": {
     "slide_type": "subslide"
    }
   },
   "source": [
    "### Update rule implementation \n",
    "\n",
    "Assume we update $\\beta^1$ with the update rule of the gradient descend algorithm:\n",
    " $$ \\beta^1(t+1) = \\beta^1(t) - \\alpha \\frac{\\partial  Error(\\beta^1,(x_0,y_0) )}{\\partial \\beta^1}  $$\n",
    "with $\\alpha=0.18$ and starting value $\\beta^1(0) =5.0$ "
   ]
  },
  {
   "cell_type": "code",
   "execution_count": 9,
   "metadata": {
    "slideshow": {
     "slide_type": "skip"
    }
   },
   "outputs": [],
   "source": [
    "# Oscillating case:  \n",
    "# betai=5.0\n",
    "# alpha=0.5"
   ]
  },
  {
   "cell_type": "code",
   "execution_count": 41,
   "metadata": {
    "slideshow": {
     "slide_type": "fragment"
    }
   },
   "outputs": [],
   "source": [
    "def updateBetaAndPlot(betai,alpha,point):\n",
    "    fig = plt.figure()\n",
    "    x = np.linspace(-4, 7, 50)\n",
    "    plt.title(\"Error vs beta parameter and tangent to \"+str(betai))\n",
    "    plt.xlabel(\"beta\")\n",
    "    plt.xticks(np.arange(-4, 7, 1.0))\n",
    "    plt.plot(x, [SError(v,point) for v in x], '-')\n",
    "    x2 = np.linspace(betai-2.0, betai+2.0, 20)\n",
    "    plt.plot(x2, [tangentLine(betai,point,v) for v in x2], '-')\n",
    "    newbetai=betai - alpha*gradient(betai,point)\n",
    "    print ( \"Next beta: \", newbetai, \" , Next Gradient: \", gradient(newbetai,point) )\n",
    "    return newbetai\n"
   ]
  },
  {
   "cell_type": "markdown",
   "metadata": {
    "slideshow": {
     "slide_type": "subslide"
    }
   },
   "source": [
    "## Initial value: $\\beta^1(0) =5.0$"
   ]
  },
  {
   "cell_type": "code",
   "execution_count": 42,
   "metadata": {
    "slideshow": {
     "slide_type": "fragment"
    }
   },
   "outputs": [
    {
     "name": "stdout",
     "output_type": "stream",
     "text": [
      "Next beta:  2.48  , Next Gradient:  3.92\n"
     ]
    },
    {
     "data": {
      "image/png": "[encoded data removed]",
      "text/plain": [
       "<Figure size 432x288 with 1 Axes>"
      ]
     },
     "metadata": {
      "needs_background": "light"
     },
     "output_type": "display_data"
    }
   ],
   "source": [
    "beta=5.0\n",
    "alpha=0.18\n",
    "#alpha = 0.25\n",
    "#alpha = 0.5  # Try this one, it will oscillate between -2.0 and 5.0 forever...\n",
    "beta = updateBetaAndPlot(beta,alpha,point)"
   ]
  },
  {
   "cell_type": "markdown",
   "metadata": {
    "slideshow": {
     "slide_type": "subslide"
    }
   },
   "source": [
    "### First update: $\\beta_1(1)= \\beta_1(0) -gradient(\\beta_1(0)) $"
   ]
  },
  {
   "cell_type": "code",
   "execution_count": 43,
   "metadata": {
    "slideshow": {
     "slide_type": "fragment"
    }
   },
   "outputs": [
    {
     "name": "stdout",
     "output_type": "stream",
     "text": [
      "Next beta:  1.7744  , Next Gradient:  1.0976\n"
     ]
    },
    {
     "data": {
      "image/png": "[encoded data removed]",
      "text/plain": [
       "<Figure size 432x288 with 1 Axes>"
      ]
     },
     "metadata": {
      "needs_background": "light"
     },
     "output_type": "display_data"
    }
   ],
   "source": [
    "beta = updateBetaAndPlot(beta,alpha,point)"
   ]
  },
  {
   "cell_type": "markdown",
   "metadata": {
    "slideshow": {
     "slide_type": "subslide"
    }
   },
   "source": [
    "### Second update: $\\beta_1(2)= \\beta_1(1) -gradient(\\beta_1(1)) $"
   ]
  },
  {
   "cell_type": "code",
   "execution_count": 44,
   "metadata": {
    "slideshow": {
     "slide_type": "fragment"
    }
   },
   "outputs": [
    {
     "name": "stdout",
     "output_type": "stream",
     "text": [
      "Next beta:  1.576832  , Next Gradient:  0.30732800000000005\n"
     ]
    },
    {
     "data": {
      "image/png": "[encoded data removed]",
      "text/plain": [
       "<Figure size 432x288 with 1 Axes>"
      ]
     },
     "metadata": {
      "needs_background": "light"
     },
     "output_type": "display_data"
    }
   ],
   "source": [
    "beta = updateBetaAndPlot(beta,alpha,point)"
   ]
  },
  {
   "cell_type": "markdown",
   "metadata": {
    "slideshow": {
     "slide_type": "subslide"
    }
   },
   "source": [
    "### Third update: $\\beta_1(3)= \\beta_1(2) -gradient(\\beta_1(2)) $"
   ]
  },
  {
   "cell_type": "code",
   "execution_count": 45,
   "metadata": {
    "slideshow": {
     "slide_type": "fragment"
    }
   },
   "outputs": [
    {
     "name": "stdout",
     "output_type": "stream",
     "text": [
      "Next beta:  1.52151296  , Next Gradient:  0.08605183999999966\n"
     ]
    },
    {
     "data": {
      "image/png": "[encoded data removed]",
      "text/plain": [
       "<Figure size 432x288 with 1 Axes>"
      ]
     },
     "metadata": {
      "needs_background": "light"
     },
     "output_type": "display_data"
    }
   ],
   "source": [
    "beta = updateBetaAndPlot(beta,alpha,point)"
   ]
  },
  {
   "cell_type": "markdown",
   "metadata": {
    "slideshow": {
     "slide_type": "subslide"
    }
   },
   "source": [
    "### Fourth update: $\\beta_1(4)= \\beta_1(3) -gradient(\\beta_1(3)) $"
   ]
  },
  {
   "cell_type": "code",
   "execution_count": 46,
   "metadata": {
    "slideshow": {
     "slide_type": "fragment"
    }
   },
   "outputs": [
    {
     "name": "stdout",
     "output_type": "stream",
     "text": [
      "Next beta:  1.5060236288  , Next Gradient:  0.024094515199999833\n"
     ]
    },
    {
     "data": {
      "image/png": "[encoded data removed]",
      "text/plain": [
       "<Figure size 432x288 with 1 Axes>"
      ]
     },
     "metadata": {
      "needs_background": "light"
     },
     "output_type": "display_data"
    }
   ],
   "source": [
    "beta = updateBetaAndPlot(beta,alpha,point)"
   ]
  },
  {
   "cell_type": "markdown",
   "metadata": {
    "slideshow": {
     "slide_type": "subslide"
    }
   },
   "source": [
    "### Fifth update: $\\beta_1(5)= \\beta_1(4) -gradient(\\beta_1(4)) $"
   ]
  },
  {
   "cell_type": "code",
   "execution_count": 47,
   "metadata": {
    "slideshow": {
     "slide_type": "fragment"
    }
   },
   "outputs": [
    {
     "name": "stdout",
     "output_type": "stream",
     "text": [
      "Next beta:  1.501686616064  , Next Gradient:  0.0067464642559995625\n"
     ]
    },
    {
     "data": {
      "image/png": "[encoded data removed]",
      "text/plain": [
       "<Figure size 432x288 with 1 Axes>"
      ]
     },
     "metadata": {
      "needs_background": "light"
     },
     "output_type": "display_data"
    }
   ],
   "source": [
    "beta = updateBetaAndPlot(beta,alpha,point)"
   ]
  },
  {
   "cell_type": "markdown",
   "metadata": {
    "slideshow": {
     "slide_type": "slide"
    }
   },
   "source": [
    "## Stochastic Gradient Descend\n",
    "\n",
    "So far, we have described the classical Gradient Descend (GD) algorithm, but in the Stochastic variant (SGD), we do not use ALL the sample points at every iteration to compute the gradient (derivative of the error function).\n",
    "\n",
    "Instead, we use only a small subset of the whole set of $m$ points. Obviously, the gradient computed in this way can be quite different from the one obtained by using all the data points, but usually after enough iterations one may converge to a solution of very good quality and spending much less computation time, because we only use a small subset of points at every iteration. So, the SGD algorithm has one more parameter, the size of the sample subset to use at every iteration to compute the gradient. This sample subset is selected uniformly at random from the whole set of $m$ points."
   ]
  },
  {
   "cell_type": "markdown",
   "metadata": {
    "slideshow": {
     "slide_type": "subslide"
    }
   },
   "source": [
    "## SGD Algorithm\n",
    "\n",
    "This is a high level version of SGD, good for any ML model where you can compute the gradient vector of the Error function for the current model:\n",
    "\n",
    "```python\n",
    "def computeSGD(points,maxiters,n,alpha,samplesubset):\n",
    "  iter = 1\n",
    "  beta = randomvector(n)\n",
    "  while (iter <= maxiters and not(Error small enough)):\n",
    "     gvector = computeGradientVector( points, beta, samplesubset ) \n",
    "     beta = beta - ( alpha * gvector )\n",
    "     iter = iter + 1\n",
    "```"
   ]
  },
  {
   "cell_type": "markdown",
   "metadata": {
    "slideshow": {
     "slide_type": "fragment"
    }
   },
   "source": [
    "where: $$ gvector = [\\frac{\\partial  Error(\\beta,sample)}{\\partial \\beta^1}, \\ldots ,  \\frac{\\partial  Error(\\beta,sample)}{\\partial \\beta^n}] $$"
   ]
  },
  {
   "cell_type": "markdown",
   "metadata": {
    "slideshow": {
     "slide_type": "slide"
    }
   },
   "source": [
    "## Parallel implementation of SGD\n",
    "\n",
    "Suppose we have our data set of $m$ points stored in a RDD in spark. Can you design a high-level algorithm that performs a single iteration of the SGD algorithm ? Observe that the total error is the SUM of the errors given by all the points, so it should be possible to design an algorithm with a high degree of parallelism. That is, each iteration of the SGD algorithm will perform:\n",
    "1. A Map operation to compute the contribution of each point to the gradient $n-$dimensional vector:\n",
    "   \n",
    "  $$  map( point, beta )->[gradient(beta^j,point) \\ \\forall j \\in [1,n]] $$\n",
    "\n",
    "2. A reduce operation to sum up all these contributions to build the final gradient vector and then compute the next value of the beta vector:\n",
    "  \n",
    "   $$ \\sum_{point} [gradient(beta^j,point) \\ \\forall j \\in [1,n]] $$\n"
   ]
  },
  {
   "cell_type": "markdown",
   "metadata": {
    "slideshow": {
     "slide_type": "slide"
    }
   },
   "source": [
    "## SGD for Linear Regression in Spark\n",
    "\n",
    "We can use SGD in Spark to solve a Linear Regression problem working with the *LinearRegressionWithSGD* object of the mllib module of Spark. "
   ]
  },
  {
   "cell_type": "code",
   "execution_count": 17,
   "metadata": {
    "slideshow": {
     "slide_type": "skip"
    }
   },
   "outputs": [],
   "source": [
    "import pyspark\n",
    "import os\n",
    "import math\n",
    "import random\n",
    "import sys\n",
    "import warnings"
   ]
  },
  {
   "cell_type": "code",
   "execution_count": 18,
   "metadata": {
    "slideshow": {
     "slide_type": "fragment"
    }
   },
   "outputs": [],
   "source": [
    "from pyspark.mllib.regression import LabeledPoint, LinearRegressionWithSGD, LinearRegressionModel"
   ]
  },
  {
   "cell_type": "code",
   "execution_count": 19,
   "metadata": {
    "slideshow": {
     "slide_type": "fragment"
    }
   },
   "outputs": [],
   "source": [
    "def parsePoint(line):\n",
    "    strnumbers = line.strip().split(' ')\n",
    "    if (strnumbers[-1] == '' or strnumbers[-1].startswith(' ')): strnumbers.pop()\n",
    "    values = [float(x) for x in strnumbers]    \n",
    "    # print values\n",
    "    return LabeledPoint(values[0], values[1:])"
   ]
  },
  {
   "cell_type": "code",
   "execution_count": 20,
   "metadata": {
    "slideshow": {
     "slide_type": "skip"
    }
   },
   "outputs": [
    {
     "name": "stdout",
     "output_type": "stream",
     "text": [
      "/usr/local/share/spark-3.0.1-bin-hadoop2.7\n",
      "/home/ramon/teaching/shared/teachingBDataMining/sessions/LinearRegression\n"
     ]
    },
    {
     "data": {
      "text/html": [
       "\n",
       "        <div>\n",
       "            <p><b>SparkContext</b></p>\n",
       "\n",
       "            <p><a href=\"http://ramon-XPS-13-9310.lan:4040\">Spark UI</a></p>\n",
       "\n",
       "            <dl>\n",
       "              <dt>Version</dt>\n",
       "                <dd><code>v3.0.1</code></dd>\n",
       "              <dt>Master</dt>\n",
       "                <dd><code>local[*]</code></dd>\n",
       "              <dt>AppName</dt>\n",
       "                <dd><code>pyspark-shell</code></dd>\n",
       "            </dl>\n",
       "        </div>\n",
       "        "
      ],
      "text/plain": [
       "<SparkContext master=local[*] appName=pyspark-shell>"
      ]
     },
     "execution_count": 20,
     "metadata": {},
     "output_type": "execute_result"
    }
   ],
   "source": [
    "spark_home = os.environ.get('SPARK_HOME', None)\n",
    "print (spark_home)\n",
    "cwd = os.getcwd()\n",
    "print (cwd)\n",
    "warnings.filterwarnings('ignore')\n",
    "sc = pyspark.SparkContext('local[*]')\n",
    "sc"
   ]
  },
  {
   "cell_type": "markdown",
   "metadata": {
    "slideshow": {
     "slide_type": "subslide"
    }
   },
   "source": [
    "## Linerar Regression with SGD : Example 1\n",
    "\n",
    "Let's try to find a linear model for a set of data points (that you have in the file linereg-ex1.dat),  that is the following set of six points:\n",
    "\n",
    "> 21.0 2.0 3.0  \n",
    "> 27.5 2.5 4.0  \n",
    "> 17.0 1.5 2.5  \n",
    "> 31.5 0.5 6.0  \n",
    "> 34.0 8.0 2.0  \n",
    "> 47.0 4.0 7.0 \n",
    "\n",
    "where the first column is the Y value, and the two other columns are the $[X^1,X^2]$ values. This data set has been generated with this model:\n",
    "\n",
    "$$ Y= 3*X^1 + 5*X^2 $$\n",
    "\n",
    "Let's check if gradient descend is able to find a model close to it."
   ]
  },
  {
   "cell_type": "code",
   "execution_count": 21,
   "metadata": {
    "scrolled": true,
    "slideshow": {
     "slide_type": "subslide"
    }
   },
   "outputs": [
    {
     "name": "stdout",
     "output_type": "stream",
     "text": [
      "Original data: \n",
      "21.0 2.0 3.0\n",
      "27.5 2.5 4.0\n",
      "17.0 1.5 2.5\n",
      "31.5 0.5 6.0\n",
      "34.0 8.0 2.0\n",
      "47.0 4.0 7.0\n",
      "\n",
      "transformed to Labeled Point format \n",
      "(21.0,[2.0,3.0])\n",
      "(27.5,[2.5,4.0])\n",
      "(17.0,[1.5,2.5])\n",
      "(31.5,[0.5,6.0])\n",
      "(34.0,[8.0,2.0])\n",
      "(47.0,[4.0,7.0])\n"
     ]
    }
   ],
   "source": [
    "#Load points into plain text file\n",
    "data = sc.textFile(\"file:////\"+cwd+\"/linereg-ex1.dat\")\n",
    "\n",
    "# Convert data to LabeledPoint format\n",
    "parsedData = data.map(parsePoint)\n",
    "\n",
    "print (\"Original data: \")\n",
    "for line in data.collect():\n",
    "     print( line )\n",
    "    \n",
    "print (\"\\ntransformed to Labeled Point format \"    )\n",
    "for lpoint in parsedData.collect():\n",
    "    print ( lpoint )"
   ]
  },
  {
   "cell_type": "code",
   "execution_count": 22,
   "metadata": {
    "slideshow": {
     "slide_type": "subslide"
    }
   },
   "outputs": [
    {
     "name": "stdout",
     "output_type": "stream",
     "text": [
      "Model for data in linereg-ex1.dat :  (weights=[2.8990527017474124,4.817021899658596], intercept=0.0)\n",
      "\n",
      "Actual values and predicted values for each point : \n",
      "(21.0, 20.249171102470612)\n",
      "(27.5, 26.515719353002915)\n",
      "(17.0, 16.39113380176761)\n",
      "(31.5, 30.351657748825286)\n",
      "(34.0, 32.82646541329649)\n",
      "(47.0, 45.31536410459982)\n",
      "\n",
      "Mean Squared Error = 0.6197618270717759\n"
     ]
    }
   ],
   "source": [
    "# Build the model\n",
    "model = LinearRegressionWithSGD.train(parsedData, iterations=6, step=0.1)\n",
    "\n",
    "print (\"Model for data in linereg-ex1.dat : \", model)\n",
    "\n",
    "valuesAndPreds = parsedData.map(lambda p: (p.label, model.predict(p.features)))\n",
    "print (\"\\nActual values and predicted values for each point : \")\n",
    "for yandPred in valuesAndPreds.collect():\n",
    "  print (yandPred)\n",
    "\n",
    "# Sum individual errors (with reduce) and divide by number of points to get MSE\n",
    "MSE = valuesAndPreds.map(lambda valAndPred: 0.5*(valAndPred[0] - valAndPred[1])**2).reduce(lambda x, y: x + y) / valuesAndPreds.count()\n",
    "print(\"\\nMean Squared Error = \" + str(MSE))"
   ]
  },
  {
   "cell_type": "markdown",
   "metadata": {
    "slideshow": {
     "slide_type": "subslide"
    }
   },
   "source": [
    "## Second Example : working with more data points\n",
    "\n",
    "Let's now try the SGD algorithm when working with more data points, this time obtained from the linear model:\n",
    "\n",
    "$$ Y= 2*X^1 + 3*X^2 + 4*X^3 $$\n",
    "\n",
    "but we are going to check different sets of data points (all coming from the same above model) increasing the number of data points from one set to the next one. In particular, we are going to try sets with 150, 350, 450, 550 and 650 data points."
   ]
  },
  {
   "cell_type": "code",
   "execution_count": 23,
   "metadata": {
    "slideshow": {
     "slide_type": "subslide"
    }
   },
   "outputs": [
    {
     "name": "stdout",
     "output_type": "stream",
     "text": [
      "/home/ramon/teaching/shared/teachingBDataMining/sessions/LinearRegression/\n",
      "['linereg-exk3err0-m150.dat', 'linereg-exk3err0-m350.dat', 'linereg-exk3err0-m450.dat', 'linereg-exk3err0-m550.dat', 'linereg-exk3err0-m650.dat']\n"
     ]
    }
   ],
   "source": [
    "import glob\n",
    "\n",
    "cwdir = os.getcwd()+\"/\"\n",
    "\n",
    "print (cwdir)\n",
    "# Get the list of all data set files starting with the prefix linereg-exk\n",
    "benchfiles = []\n",
    "for content in glob.glob(\"linereg-exk3err0-m*dat\"): # \".\" means current directory\n",
    "    benchfiles.append(content)\n",
    "    \n",
    "benchfiles.sort()\n",
    "print (benchfiles)"
   ]
  },
  {
   "cell_type": "code",
   "execution_count": 24,
   "metadata": {
    "slideshow": {
     "slide_type": "subslide"
    }
   },
   "outputs": [
    {
     "name": "stdout",
     "output_type": "stream",
     "text": [
      "linereg-exk3err0-m150.dat\n",
      "linereg-exk3err0-m350.dat\n",
      "linereg-exk3err0-m450.dat\n",
      "linereg-exk3err0-m550.dat\n",
      "linereg-exk3err0-m650.dat\n",
      "[LabeledPoint(-77.9046221664, [52.9493434086,-262.334435344,150.799999262]), LabeledPoint(-188.534740837, [-187.178048971,-79.5446078017,106.113795127]), LabeledPoint(-1351.22442219, [191.220511971,-278.22044235,-224.751029769])]\n"
     ]
    }
   ],
   "source": [
    "# Next, create RDDs for all of them\n",
    "benchRDDs = []\n",
    "for f in benchfiles:    \n",
    "    print (f)\n",
    "    benchRDDs.append( sc.textFile(\"file:////\"+cwdir+f).map(parsePoint) )\n",
    "\n",
    "# check the first 4 points of the first data file:\n",
    "print    (benchRDDs[0].collect()[0:3] )"
   ]
  },
  {
   "cell_type": "markdown",
   "metadata": {
    "slideshow": {
     "slide_type": "subslide"
    }
   },
   "source": [
    "Next, we are going to find linear models for all these sample files, but trying three different number of iterations for each one (so we will get three models for each file). We will keep the $\\alpha$ parameter (step) fixed to $0.0003$ in all the executions. It may seem a very low value, but later you can rerun this code cell with a higher value for  $\\alpha$ and check what happens."
   ]
  },
  {
   "cell_type": "code",
   "execution_count": 25,
   "metadata": {
    "slideshow": {
     "slide_type": "subslide"
    }
   },
   "outputs": [
    {
     "name": "stdout",
     "output_type": "stream",
     "text": [
      "\n",
      "finding models with iterations = 45\n",
      "model:  ->  (weights=[-1.5332609470800822,0.5309707638919363,12.254728252098342], intercept=0.0)\n",
      "model:  ->  (weights=[936.7410054298284,-685.427285983953,1827.615220779022], intercept=0.0)\n",
      "model:  ->  (weights=[1148.5013736115307,9341.622438722501,4221.74801757802], intercept=0.0)\n",
      "model:  ->  (weights=[1615.3664858783068,-875.500921337079,729.2219501176924], intercept=0.0)\n",
      "model:  ->  (weights=[204.40947730131438,52.23583833090743,59.39239959285791], intercept=0.0)\n",
      "\n",
      "finding models with iterations = 55\n",
      "model:  ->  (weights=[1.9997874565270162,2.999629524318989,4.000633428099547], intercept=0.0)\n",
      "model:  ->  (weights=[2.0255585947181762,2.971119408271417,4.058991014529664], intercept=0.0)\n",
      "model:  ->  (weights=[2.0566652289184875,3.461554840631676,4.208458600643081], intercept=0.0)\n",
      "model:  ->  (weights=[2.0640467386895294,2.9654187039358066,4.024891670684826], intercept=0.0)\n",
      "model:  ->  (weights=[2.0022271436373376,3.0005289494731446,4.000583094228076], intercept=0.0)\n",
      "\n",
      "finding models with iterations = 120\n",
      "model:  ->  (weights=[1.9997874565270162,2.999629524318989,4.000633428099547], intercept=0.0)\n",
      "model:  ->  (weights=[2.000131654082927,2.9998348013645444,4.000318781567515], intercept=0.0)\n",
      "model:  ->  (weights=[1.9999033165301785,2.999212484911936,3.999644323322939], intercept=0.0)\n",
      "model:  ->  (weights=[2.0003781686908706,2.9997960643773354,4.000143620539939], intercept=0.0)\n",
      "model:  ->  (weights=[1.9994358757143489,2.9998661292718367,3.9998525310252067], intercept=0.0)\n"
     ]
    }
   ],
   "source": [
    "models = {}\n",
    "errs = {}\n",
    "for iters in [45,55,120]:\n",
    "  print ( \"\\nfinding models with iterations =\",iters)\n",
    "  errs[iters] = []  \n",
    "  models[iters] = []\n",
    "  for rdd in benchRDDs:            \n",
    "      model = LinearRegressionWithSGD.train( rdd, iterations=iters, step=0.0003) \n",
    "      print (\"model:  -> \", model)\n",
    "      models[iters].append( model )\n",
    "      valsandpreds = rdd.map(lambda p: (p.label, model.predict(p.features)))      \n",
    "      errs[iters].append( valsandpreds.map(lambda valAndPred: 0.5*(valAndPred[0] - valAndPred[1])**2).\\\n",
    "                          reduce(lambda x, y: x + y) / valsandpreds.count() )\n"
   ]
  },
  {
   "cell_type": "code",
   "execution_count": 26,
   "metadata": {
    "slideshow": {
     "slide_type": "subslide"
    }
   },
   "outputs": [
    {
     "name": "stdout",
     "output_type": "stream",
     "text": [
      "Results for iterations= 45\n",
      " - Error for :  linereg-exk3err0-m150.dat  :  1328311.4709688695\n",
      " - Error for :  linereg-exk3err0-m350.dat  :  75040417157.084\n",
      " - Error for :  linereg-exk3err0-m450.dat  :  1726827091763.5166\n",
      " - Error for :  linereg-exk3err0-m550.dat  :  62950045622.2052\n",
      " - Error for :  linereg-exk3err0-m650.dat  :  726238959.8563155\n",
      "Results for iterations= 55\n",
      " - Error for :  linereg-exk3err0-m150.dat  :  0.008972424102796856\n",
      " - Error for :  linereg-exk3err0-m350.dat  :  79.81791978428774\n",
      " - Error for :  linereg-exk3err0-m450.dat  :  4218.222089444578\n",
      " - Error for :  linereg-exk3err0-m550.dat  :  95.50956910705675\n",
      " - Error for :  linereg-exk3err0-m650.dat  :  0.08721978201865171\n",
      "Results for iterations= 120\n",
      " - Error for :  linereg-exk3err0-m150.dat  :  0.008972424102796856\n",
      " - Error for :  linereg-exk3err0-m350.dat  :  0.0023501815819487546\n",
      " - Error for :  linereg-exk3err0-m450.dat  :  0.012280062785544506\n",
      " - Error for :  linereg-exk3err0-m550.dat  :  0.003312467935740472\n",
      " - Error for :  linereg-exk3err0-m650.dat  :  0.005594376438874157\n"
     ]
    }
   ],
   "source": [
    "# Show MSE of models\n",
    "for iters in [45,55,120]:\n",
    "    print (\"Results for iterations=\",iters)\n",
    "    for it,MSE in enumerate(errs[iters]):         \n",
    "       print (\" - Error for : \",benchfiles[it], \" : \",MSE)"
   ]
  },
  {
   "cell_type": "markdown",
   "metadata": {
    "slideshow": {
     "slide_type": "fragment"
    }
   },
   "source": [
    "As you can see, with 45 iterations we get linear models with a hight MSE, but increasing a little bit the number of iterations the MSE improves substantially.\n",
    "Try next to execute the previous code cell but increasing a little bit the $\\alpha$ parameter, to check if you are able to get better models with the same number of iterations."
   ]
  },
  {
   "cell_type": "markdown",
   "metadata": {
    "slideshow": {
     "slide_type": "slide"
    }
   },
   "source": [
    "## Finding a model for noisy data\n",
    "\n",
    "In the previous example, the data points follow an exact linear model, that SGD was able to find. We are now going to test our algorithm for the case where the data comes from a model that is the combination of a linear model plus some random noise added to the final value. That is:\n",
    "\n",
    "$$ Y= 2*X_1 + 3*X_2 + 4*X_3 +  \\epsilon(-2,2) $$\n",
    "\n",
    "where $\\epsilon(-2,2) $ denotes a random uniform variable in the range $ [-2,2] $. This time, SGD may have difficulties to find a model with similar errors than before. A possible way to obtain good models is to generalize a little bit our linear model to this one:\n",
    "\n",
    "$$ \\hat{y_i} = \\beta^0 + \\sum_{j=1}^{n} \\beta^j x_{i,j} $$\n",
    "\n",
    "where $\\beta_0$ represents a constant value added to the linear model, also called the intercept parameter. We can ask spark to look for a linear model with an intercept parameter by setting the optional parameter *intercept* to True when calling the train function. But observe that if the algorithm is not able to find a good value for this additional parameter, we could end up with worse models than the ones we get without the intercept parameter."
   ]
  },
  {
   "cell_type": "code",
   "execution_count": 27,
   "metadata": {
    "slideshow": {
     "slide_type": "subslide"
    }
   },
   "outputs": [
    {
     "name": "stdout",
     "output_type": "stream",
     "text": [
      "['linereg-exk3-m010.dat', 'linereg-exk3-m050.dat', 'linereg-exk3-m150.dat', 'linereg-exk3-m1600.dat', 'linereg-exk3-m200.dat', 'linereg-exk3-m250.dat', 'linereg-exk3-m300.dat', 'linereg-exk3-m350.dat', 'linereg-exk3-m3600.dat', 'linereg-exk3-m400.dat', 'linereg-exk3-m450.dat', 'linereg-exk3-m500.dat', 'linereg-exk3-m550.dat', 'linereg-exk3-m600.dat', 'linereg-exk3-m650.dat']\n"
     ]
    }
   ],
   "source": [
    "# Get the list of all data set files starting with the prefix linereg-exk\n",
    "nbenchfiles = []\n",
    "for content in glob.glob(\"linereg-exk3-m*dat\"): # \".\" means current directory\n",
    "    nbenchfiles.append(content)\n",
    "\n",
    "nbenchfiles.sort()\n",
    "print (nbenchfiles)\n"
   ]
  },
  {
   "cell_type": "code",
   "execution_count": 28,
   "metadata": {
    "slideshow": {
     "slide_type": "fragment"
    }
   },
   "outputs": [],
   "source": [
    "# Next, create RDDs for all of them\n",
    "nbenchRDDs = []\n",
    "for f in nbenchfiles:    \n",
    "    nbenchRDDs.append( sc.textFile(\"file:////\"+cwdir+f).map(parsePoint) )\n",
    "    "
   ]
  },
  {
   "cell_type": "code",
   "execution_count": 29,
   "metadata": {
    "slideshow": {
     "slide_type": "subslide"
    }
   },
   "outputs": [
    {
     "name": "stdout",
     "output_type": "stream",
     "text": [
      "Finding models for iterations= 40\n",
      "Finding models for iterations= 50\n",
      "Finding models for iterations= 120\n"
     ]
    }
   ],
   "source": [
    "#\n",
    "# Next, find linear models for our noisy data sets with SGD\n",
    "\n",
    "nmodels = {}\n",
    "nerrs = {}\n",
    "for iters in [40,50,120]:\n",
    "  print (\"Finding models for iterations=\",iters)\n",
    "  nerrs[iters] = []  \n",
    "  nmodels[iters] = []\n",
    "  for rdd in nbenchRDDs:\n",
    "      model = LinearRegressionWithSGD.train( rdd, iterations=iters, step=0.00022, intercept=False) \n",
    "      nmodels[iters].append( model )\n",
    "      valsandpreds = rdd.map(lambda p: (p.label, model.predict(p.features)))\n",
    "      nerrs[iters].append( valsandpreds.map(lambda valAndPred: 0.5*(valAndPred[0] - valAndPred[1])**2).\\\n",
    "                                         reduce(lambda x, y: x + y) / valsandpreds.count() )\n",
    "    \n",
    "# Next, execute again this cell but with the parameter: intercept=True in the function train    "
   ]
  },
  {
   "cell_type": "code",
   "execution_count": 30,
   "metadata": {
    "slideshow": {
     "slide_type": "subslide"
    }
   },
   "outputs": [
    {
     "name": "stdout",
     "output_type": "stream",
     "text": [
      "Worst case result for iterations= 40\n",
      " - Error for :  linereg-exk3-m010.dat  :  1300694339649228.5\n",
      "Worst case result for iterations= 50\n",
      " - Error for :  linereg-exk3-m010.dat  :  169654734.0250606\n",
      "Worst case result for iterations= 120\n",
      " - Error for :  linereg-exk3-m150.dat  :  0.1805005773697193\n"
     ]
    }
   ],
   "source": [
    "# Show MSE of models\n",
    "for iters in [40,50,120]:\n",
    "    print (\"Worst case result for iterations=\",iters)\n",
    "    maxerror = -1.0\n",
    "    for it,MSE in enumerate(nerrs[iters]):         \n",
    "     if (MSE > maxerror):\n",
    "        wit = it\n",
    "        maxerror = MSE\n",
    "    print (\" - Error for : \",nbenchfiles[wit], \" : \",maxerror)\n",
    "    "
   ]
  },
  {
   "cell_type": "markdown",
   "metadata": {
    "slideshow": {
     "slide_type": "fragment"
    }
   },
   "source": [
    "So, this time we are not able to find models as good as before for our noisy data sets. You can try to rerun the previus code cell with intercept=True or with a different value for $\\alpha$, but you will see that it seems not possible to get models with smaller error."
   ]
  },
  {
   "cell_type": "markdown",
   "metadata": {
    "collapsed": true,
    "slideshow": {
     "slide_type": "slide"
    }
   },
   "source": [
    "## Linear Regression with Google GDELT data\n",
    "\n",
    "Next, we are going to try to learn a linear model for predicting one the variables in google GDELT data set (https://www.gdeltproject.org/) from some other variables in the data set. In particular we want to predict the value of the variable **NumMentions**, from the value of the variables: GoldsteinScale, NumSources, NumArticles and AvgTone. Check the document:\n",
    "\n",
    "http://data.gdeltproject.org/documentation/GDELT-Data_Format_Codebook.pdf\n",
    "\n",
    "If you want to know about the meaning of these variables for each event recorded in the GDELT data set."
   ]
  },
  {
   "cell_type": "code",
   "execution_count": 31,
   "metadata": {
    "slideshow": {
     "slide_type": "subslide"
    }
   },
   "outputs": [],
   "source": [
    "def mapGDELTRecordsToLPoint( gdeltlines, ColumnFilter ):\n",
    "    for line in gdeltlines:\n",
    "        fields = line.split(\"\\t\")\n",
    "        values = [float(  fields[x] ) for x in ColumnFilter]\n",
    "        # yield LabeledPoint\n",
    "        yield LabeledPoint( values[0], values[1:] )\n",
    "    "
   ]
  },
  {
   "cell_type": "code",
   "execution_count": 32,
   "metadata": {
    "slideshow": {
     "slide_type": "subslide"
    }
   },
   "outputs": [
    {
     "name": "stdout",
     "output_type": "stream",
     "text": [
      "['GLOBALEVENTID', 'SQLDATE', 'MonthYear', 'Year', 'FractionDate', 'Actor1Code', 'Actor1Name', 'Actor1CountryCode', 'Actor1KnownGroupCode', 'Actor1EthnicCode', 'Actor1Religion1Code', 'Actor1Religion2Code', 'Actor1Type1Code', 'Actor1Type2Code', 'Actor1Type3Code', 'Actor2Code', 'Actor2Name', 'Actor2CountryCode', 'Actor2KnownGroupCode', 'Actor2EthnicCode', 'Actor2Religion1Code', 'Actor2Religion2Code', 'Actor2Type1Code', 'Actor2Type2Code', 'Actor2Type3Code', 'IsRootEvent', 'EventCode', 'EventBaseCode', 'EventRootCode', 'QuadClass', 'GoldsteinScale', 'NumMentions', 'NumSources', 'NumArticles', 'AvgTone', 'Actor1Geo_Type', 'Actor1Geo_FullName', 'Actor1Geo_CountryCode', 'Actor1Geo_ADM1Code', 'Actor1Geo_Lat', 'Actor1Geo_Long', 'Actor1Geo_FeatureID', 'Actor2Geo_Type', 'Actor2Geo_FullName', 'Actor2Geo_CountryCode', 'Actor2Geo_ADM1Code', 'Actor2Geo_Lat', 'Actor2Geo_Long', 'Actor2Geo_FeatureID', 'ActionGeo_Type', 'ActionGeo_FullName', 'ActionGeo_CountryCode', 'ActionGeo_ADM1Code', 'ActionGeo_Lat', 'ActionGeo_Long', 'ActionGeo_FeatureID', 'DATEADDED']\n",
      "[31, 30, 32, 33, 34]\n"
     ]
    }
   ],
   "source": [
    "hlinefile = open( \"CSV.header.historical.txt\" )\n",
    "GDELT10headerline = hlinefile.readline().rstrip().split(\"\\t\")\n",
    "hlinefile.close()\n",
    "print (GDELT10headerline)\n",
    "\n",
    "# print GDELT10headerline.index( 'EventCode' )\n",
    "\n",
    "# Get the column index for the different disered attributes\n",
    "ColumnFilter = [ GDELT10headerline.index( 'NumMentions' ),\n",
    "                 GDELT10headerline.index( 'GoldsteinScale' ),\n",
    "                 GDELT10headerline.index( 'NumSources' ),\n",
    "                 GDELT10headerline.index( 'NumArticles' ),\n",
    "                 GDELT10headerline.index( 'AvgTone' ) ]\n",
    "\n",
    "print (ColumnFilter)\n",
    "                 "
   ]
  },
  {
   "cell_type": "code",
   "execution_count": 33,
   "metadata": {
    "slideshow": {
     "slide_type": "subslide"
    }
   },
   "outputs": [
    {
     "name": "stdout",
     "output_type": "stream",
     "text": [
      "[LabeledPoint(9.0, [1.0,1.0,9.0,5.52631578947368]), LabeledPoint(10.0, [4.0,1.0,10.0,10.9792284866469]), LabeledPoint(10.0, [-5.0,1.0,10.0,10.9792284866469])]\n",
      "430941\n"
     ]
    }
   ],
   "source": [
    "rddGDELT1979Points =  sc.textFile( \"GDELT10/1979.csv\" ).\\\n",
    "                    mapPartitions( lambda seq : mapGDELTRecordsToLPoint( seq, ColumnFilter ) )\n",
    "\n",
    "print (rddGDELT1979Points.take(3))\n",
    "print (rddGDELT1979Points.count())\n"
   ]
  },
  {
   "cell_type": "markdown",
   "metadata": {
    "slideshow": {
     "slide_type": "subslide"
    }
   },
   "source": [
    "This time, we will modify the parameter miniBatchFraction of the SGD algorithm for finding a model in three different executions. We will try the values   $[1.0,0.1,0.001]$ and with the number of iterations equal to 18, to study whether with a reduced number of iterations and sampling less points to compute the gradient really makes any impact in the quality of the model found."
   ]
  },
  {
   "cell_type": "code",
   "execution_count": 34,
   "metadata": {
    "slideshow": {
     "slide_type": "fragment"
    }
   },
   "outputs": [],
   "source": [
    "modelgdelt = {}\n",
    "for bfraction in [1.0,0.1,0.001]:\n",
    "  modelgdelt[bfraction] = LinearRegressionWithSGD.train( rddGDELT1979Points, iterations=18, step=0.1,\n",
    "                                            intercept =True, miniBatchFraction=bfraction)"
   ]
  },
  {
   "cell_type": "code",
   "execution_count": 35,
   "metadata": {
    "slideshow": {
     "slide_type": "subslide"
    }
   },
   "outputs": [
    {
     "name": "stdout",
     "output_type": "stream",
     "text": [
      " - Mean SError for GDELT model with  1.0 ( (weights=[-0.07028931274117267,-0.09228480379222034,0.7799164332323574,-0.31232162257322127], intercept=0.9061559374618144) ):  3.182538178866468\n",
      " - Mean SError for GDELT model with  0.1 ( (weights=[-0.06477559861382776,-0.10975676072526777,0.8423466193752198,-0.35406776227031356], intercept=0.8399625039362623) ):  3.1754295577931324\n",
      " - Mean SError for GDELT model with  0.001 ( (weights=[-0.57081080803653,0.14592460528450468,-1.9749179498158613,1.6139296587828342], intercept=1.1306649812352398) ):  63.09678740890627\n"
     ]
    }
   ],
   "source": [
    "# Print model information with their prediction errors:\n",
    "\n",
    "valsandpreds = {}\n",
    "for bfraction in [1.0,0.1,0.001]:\n",
    "  valsandpreds[bfraction] = rddGDELT1979Points.map(lambda p: (p.label, modelgdelt[bfraction].predict(p.features)))\n",
    "  MSE = valsandpreds[bfraction].map(lambda valAndPred: 0.5*(valAndPred[0] - valAndPred[1])**2).\\\n",
    "                          reduce(lambda x, y: x + y) /valsandpreds[bfraction].count() \n",
    "  print (\" - Mean SError for GDELT model with \",bfraction ,  \"(\",modelgdelt[bfraction], \"): \",MSE)\n"
   ]
  }
 ],
 "metadata": {
  "celltoolbar": "Slideshow",
  "kernelspec": {
   "display_name": "Python 3",
   "language": "python",
   "name": "python3"
  },
  "language_info": {
   "codemirror_mode": {
    "name": "ipython",
    "version": 3
   },
   "file_extension": ".py",
   "mimetype": "text/x-python",
   "name": "python",
   "nbconvert_exporter": "python",
   "pygments_lexer": "ipython3",
   "version": "3.8.10"
  }
 },
 "nbformat": 4,
 "nbformat_minor": 1
}
