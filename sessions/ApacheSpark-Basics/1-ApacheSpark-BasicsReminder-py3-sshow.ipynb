{
 "cells": [
  {
   "cell_type": "markdown",
   "metadata": {
    "slideshow": {
     "slide_type": "slide"
    }
   },
   "source": [
    "<link rel=\"stylesheet\" type=\"text/css\" href=\"styles/custom.css\">\n",
    "<center><h1><span class=\"sshowtitle\">Apache Spark Basics</span></h1></center>\n",
    "<p> </p>\n",
    "<p> </p>\n",
    "<center><span style=\"color:blue; font-family:Georgia;  font-size:1em;\">Ramon Béjar</span></center>\n",
    "<canvas id=\"myCanvas\" width=\"200\" height=\"100\" style=\"border:0px solid\">\n",
    "    </canvas>\n",
    "<center>Data mining - Master on Computer Science</center>\n",
    "\n",
    "<center><img src=\"M-UdL2.png\"  width=\"200\" alt=\"Italian Trulli\"></center>"
   ]
  },
  {
   "cell_type": "markdown",
   "metadata": {
    "slideshow": {
     "slide_type": "slide"
    }
   },
   "source": [
    "# 1 - Using Apache Spark\n",
    "Spark applications run as independent sets of processes on a cluster, coordinated by the **SparkContext object** in your main program (called the driver program).\n",
    "\n",
    "![Spark Architecture](http://spark.apache.org/docs/latest/img/cluster-overview.png)\n",
    "\n",
    "SparkContext allocates resources from the cluster across applications. Datasets are distributed in different partitions across the memory of nodes in the cluster.\n",
    "\n",
    "\n"
   ]
  },
  {
   "cell_type": "markdown",
   "metadata": {
    "slideshow": {
     "slide_type": "subslide"
    }
   },
   "source": [
    "Once connected, Spark acquires executors on nodes in the cluster, which are processes that run computations and store data for your application. \n",
    "\n",
    "Next, it sends your application code (defined by JAR or Python files passed to SparkContext) to the executors. \n",
    "\n",
    "Finally, SparkContext sends tasks to the executors to run."
   ]
  },
  {
   "cell_type": "markdown",
   "metadata": {
    "slideshow": {
     "slide_type": "subslide"
    }
   },
   "source": [
    "## Spark driver entry point: spark context"
   ]
  },
  {
   "cell_type": "code",
   "execution_count": 1,
   "metadata": {
    "slideshow": {
     "slide_type": "fragment"
    }
   },
   "outputs": [],
   "source": [
    "import pyspark"
   ]
  },
  {
   "cell_type": "code",
   "execution_count": 2,
   "metadata": {
    "slideshow": {
     "slide_type": "fragment"
    }
   },
   "outputs": [
    {
     "data": {
      "text/html": [
       "\n",
       "        <div>\n",
       "            <p><b>SparkContext</b></p>\n",
       "\n",
       "            <p><a href=\"http://192.168.1.170:4040\">Spark UI</a></p>\n",
       "\n",
       "            <dl>\n",
       "              <dt>Version</dt>\n",
       "                <dd><code>v3.0.0</code></dd>\n",
       "              <dt>Master</dt>\n",
       "                <dd><code>local[*]</code></dd>\n",
       "              <dt>AppName</dt>\n",
       "                <dd><code>pyspark-shell</code></dd>\n",
       "            </dl>\n",
       "        </div>\n",
       "        "
      ],
      "text/plain": [
       "<SparkContext master=local[*] appName=pyspark-shell>"
      ]
     },
     "execution_count": 2,
     "metadata": {},
     "output_type": "execute_result"
    }
   ],
   "source": [
    "sc =  pyspark.SparkContext('local[*]')\n",
    "sc"
   ]
  },
  {
   "cell_type": "markdown",
   "metadata": {
    "slideshow": {
     "slide_type": "subslide"
    }
   },
   "source": [
    "## Driver for working with data frames\n",
    "\n",
    "For some spark functions related to SQL like queries and data frames (RDDs with a structure of columns with types) with our data (but executed by the spark driver), we need to create a special context, called **Spark Session**, but linked to our main spark context. We use this Spark Session when we work with **spark data frames**."
   ]
  },
  {
   "cell_type": "code",
   "execution_count": 3,
   "metadata": {
    "slideshow": {
     "slide_type": "fragment"
    }
   },
   "outputs": [
    {
     "data": {
      "text/html": [
       "\n",
       "            <div>\n",
       "                <p><b>SparkSession - in-memory</b></p>\n",
       "                \n",
       "        <div>\n",
       "            <p><b>SparkContext</b></p>\n",
       "\n",
       "            <p><a href=\"http://192.168.1.170:4040\">Spark UI</a></p>\n",
       "\n",
       "            <dl>\n",
       "              <dt>Version</dt>\n",
       "                <dd><code>v3.0.0</code></dd>\n",
       "              <dt>Master</dt>\n",
       "                <dd><code>local[*]</code></dd>\n",
       "              <dt>AppName</dt>\n",
       "                <dd><code>pyspark-shell</code></dd>\n",
       "            </dl>\n",
       "        </div>\n",
       "        \n",
       "            </div>\n",
       "        "
      ],
      "text/plain": [
       "<pyspark.sql.session.SparkSession at 0x7f0900f7bb10>"
      ]
     },
     "execution_count": 3,
     "metadata": {},
     "output_type": "execute_result"
    }
   ],
   "source": [
    "sqlCtx = pyspark.sql.SparkSession(sc)\n",
    "sqlCtx"
   ]
  },
  {
   "cell_type": "markdown",
   "metadata": {
    "slideshow": {
     "slide_type": "subslide"
    }
   },
   "source": [
    "## Main Spark Concepts\n",
    "\n",
    "### Partitions\n",
    "Spark’s basic abstraction is the **Resilient Distributed Dataset, or RDD**. An RDD represents a data set that is fragmented in different partitions, where different partitions can be in different nodes of the cluster.\n",
    "\n",
    "That fragmentation is what enables Spark to execute in parallel, and the level of fragmentation is a function of the number of **partitions** of your RDD.  \n",
    "\n",
    "### Caching\n",
    "\n",
    "\"Spark handles all data in memory\" (all the data that it can fit). \n",
    "\n",
    "This is tricky and here's where the magic relies. Most of the time you will be working with metadata not with all the data, and computations are only left for the time that you need the results.\n",
    "\n",
    "Storing that results or leaving them to compute them again has a high impact in response times. When you store the results, it is said to be **catching the RDD**.\n",
    "\n",
    "\n",
    " "
   ]
  },
  {
   "cell_type": "markdown",
   "metadata": {
    "slideshow": {
     "slide_type": "subslide"
    }
   },
   "source": [
    "### Shuffling\n",
    "\n",
    "There are many different tasks that require **shuffling** of the data across the cluster:\n",
    "- Finding the distinct elements of a RDD\n",
    "- Sorting the elements of the RDD\n",
    "- A table join (to join two tables on the field “id”)\n",
    "- A cartesian product of two RDDs\n",
    "\n"
   ]
  },
  {
   "cell_type": "markdown",
   "metadata": {
    "slideshow": {
     "slide_type": "subslide"
    }
   },
   "source": [
    "Of course, the **holy grail** of a map/reduce algorithm is to have as many as possible tasks with no shuffling (or low shuffling), meaning that the computations performed on each element will be totally independent on others (or depending only on some constant number of other elements) \n",
    "$$ \\Rightarrow \\textrm{linear time computations} : O(n) $$\n",
    "\n",
    "There are some tasks that it has been proven that it is impossible to perform in linear time, like sorting, where a $O(n\\log n) \\ \\ \\ \\ \\ \\ $lower bound on the total number of comparisons in any sorting algorithm is known. If you are curious, check the paper:\n",
    "\n",
    "[\"Lower bounds for sorting networks\"](https://www.researchgate.net/publication/221590742_Lower_bounds_for_sorting_networks/link/0912f5108456ceb10d000000/download)"
   ]
  },
  {
   "cell_type": "markdown",
   "metadata": {
    "slideshow": {
     "slide_type": "slide"
    }
   },
   "source": [
    "## 2 - RDD Basics\n",
    "\n",
    "An RDD can be defined as a distributed collection of elements. All work done with Spark can be summarized as **creating**, **transforming** and **applying** operations over RDDs to compute a result. Under the hood, Spark automatically **distributes the data contained in RDDs** across your cluster and **parallelizes the operations** you perform on them."
   ]
  },
  {
   "cell_type": "markdown",
   "metadata": {
    "slideshow": {
     "slide_type": "subslide"
    }
   },
   "source": [
    "RDD properties:\n",
    "* it is an **immutable distributed** collection of objects\n",
    "* it is split into multiple **partitions**\n",
    "* it is computed on different nodes of the cluster\n",
    "* it can contain any type of Python object (user defined ones included)"
   ]
  },
  {
   "cell_type": "markdown",
   "metadata": {
    "slideshow": {
     "slide_type": "fragment"
    }
   },
   "source": [
    "An RDD can be created in **two ways**:\n",
    "1. Distributing either an external dataset or a collection of objects in the driver program\n",
    "2. Transforming one RDD (or many) to get a new one"
   ]
  },
  {
   "cell_type": "markdown",
   "metadata": {
    "slideshow": {
     "slide_type": "subslide"
    }
   },
   "source": [
    "## Basic RDD transformation examples"
   ]
  },
  {
   "cell_type": "code",
   "execution_count": 41,
   "metadata": {
    "slideshow": {
     "slide_type": "fragment"
    }
   },
   "outputs": [
    {
     "name": "stdout",
     "output_type": "stream",
     "text": [
      "data/people.csv MapPartitionsRDD[137] at textFile at NativeMethodAccessorImpl.java:0 <class 'pyspark.rdd.RDD'>\n"
     ]
    }
   ],
   "source": [
    "# loading an external dataset\n",
    "lines = sc.textFile(\"data/people.csv\")\n",
    "print (lines, type(lines))"
   ]
  },
  {
   "cell_type": "markdown",
   "metadata": {
    "slideshow": {
     "slide_type": "subslide"
    }
   },
   "source": [
    "Spark's API allows passing functions to its operators to run them on the cluster. For example, we could extend our example by filtering the lines in the file that contain a word, such as individuum."
   ]
  },
  {
   "cell_type": "code",
   "execution_count": 42,
   "metadata": {
    "slideshow": {
     "slide_type": "fragment"
    }
   },
   "outputs": [
    {
     "name": "stdout",
     "output_type": "stream",
     "text": [
      "<class 'pyspark.rdd.PipelinedRDD'>  :  PythonRDD[138] at RDD at PythonRDD.scala:53\n"
     ]
    }
   ],
   "source": [
    "\n",
    "# applying a transformation to an existing RDD\n",
    "filtered_lines = lines.filter(lambda line: \"individuum\" in line)\n",
    "print (type(filtered_lines), \" : \", filtered_lines)"
   ]
  },
  {
   "cell_type": "markdown",
   "metadata": {
    "slideshow": {
     "slide_type": "fragment"
    }
   },
   "source": [
    "Observe that the RDD object represents an abstraction to the whole data set, but the object in the driver program **does not** contain the actual data. "
   ]
  },
  {
   "cell_type": "markdown",
   "metadata": {
    "slideshow": {
     "slide_type": "subslide"
    }
   },
   "source": [
    "It is important to note that once we have an RDD, we can run **two kind of operations**:\n",
    "* **transformations**: construct a new RDD from a previous one. For example, by filtering lines RDD we create a new RDD that holds the lines that contain \"individuum\" string. Note that the returning result is an RDD.\n",
    "* **actions**: *compute* a result based on an RDD, and returns the result to the driver program or stores it to an external storage system (e.g. HDFS). Note that the returning result is not an RDD but another kind of variable.\n",
    "\n",
    "To get back to the driver some of the data from an RDD, we need to execute some kind of actions. Transformations are defined in a **lazy** manner, so they are only computed **once the results are demanded by an action**."
   ]
  },
  {
   "cell_type": "code",
   "execution_count": 43,
   "metadata": {
    "slideshow": {
     "slide_type": "subslide"
    }
   },
   "outputs": [
    {
     "name": "stdout",
     "output_type": "stream",
     "text": [
      ",Age[years],Sex,Weight[kg],Eye Color,Body Temperature[C]  type:  <class 'str'>\n"
     ]
    },
    {
     "data": {
      "text/plain": [
       "',Age[years],Sex,Weight[kg],Eye Color,Body Temperature[C]'"
      ]
     },
     "execution_count": 43,
     "metadata": {},
     "output_type": "execute_result"
    }
   ],
   "source": [
    "action_result = lines.first()\n",
    "print (action_result, \" type: \", type(action_result))\n",
    "action_result"
   ]
  },
  {
   "cell_type": "code",
   "execution_count": 44,
   "metadata": {
    "slideshow": {
     "slide_type": "fragment"
    }
   },
   "outputs": [
    {
     "data": {
      "text/plain": [
       "'individuum 1, 42, female, 52.9, brown, 36.9'"
      ]
     },
     "execution_count": 44,
     "metadata": {},
     "output_type": "execute_result"
    }
   ],
   "source": [
    "# filtered_lines is not computed until the next action is applied over it\n",
    "filtered_lines.first()"
   ]
  },
  {
   "cell_type": "markdown",
   "metadata": {
    "slideshow": {
     "slide_type": "subslide"
    }
   },
   "source": [
    "## Persistance of an RDD\n",
    "If you want to perform more than one action with a given RDD, you can *force* to keep that RDD in memory once it has been created the first time, using the persist() function on the RDD. "
   ]
  },
  {
   "cell_type": "code",
   "execution_count": 45,
   "metadata": {
    "slideshow": {
     "slide_type": "fragment"
    }
   },
   "outputs": [],
   "source": [
    "import time\n",
    "\n",
    "lines = sc.textFile(\"data/REFERENCE/*\")\n",
    "lines_nonempty = lines.filter( lambda x: len(x) > 0 )\n",
    "words = lines_nonempty.flatMap(lambda x: x.split())\n",
    "words_persisted = lines_nonempty.flatMap(lambda x: x.split())"
   ]
  },
  {
   "cell_type": "markdown",
   "metadata": {
    "slideshow": {
     "slide_type": "fragment"
    }
   },
   "source": [
    "* filter applies the lambda function to each line in lines RDD, only lines that satisfy the condition (that the length is greater than zero) are in lines_nonempty variable (**this RDD is not computed yet!**)\n",
    "* flatMap applies the lambda function to each element of the RDD and then the result is flattened (i.e. a list of lists would be converted to a simple list)"
   ]
  },
  {
   "cell_type": "markdown",
   "metadata": {
    "slideshow": {
     "slide_type": "subslide"
    }
   },
   "source": [
    "Using an action with RDD words two times, with no explicit persistance:"
   ]
  },
  {
   "cell_type": "code",
   "execution_count": 46,
   "metadata": {
    "slideshow": {
     "slide_type": "fragment"
    }
   },
   "outputs": [
    {
     "name": "stdout",
     "output_type": "stream",
     "text": [
      "Word count 1 time: 3.7476725578308105\n",
      "Word count 2 time: 3.6525588035583496\n"
     ]
    }
   ],
   "source": [
    "t1 = time.time()\n",
    "words.count()\n",
    "print (\"Word count 1 time:\",time.time() - t1)\n",
    "\n",
    "t1 = time.time()\n",
    "words.count()\n",
    "print (\"Word count 2 time:\",time.time() - t1)"
   ]
  },
  {
   "cell_type": "markdown",
   "metadata": {
    "slideshow": {
     "slide_type": "subslide"
    }
   },
   "source": [
    "Using an action with RDD words two times, with explicit persistance:"
   ]
  },
  {
   "cell_type": "code",
   "execution_count": 47,
   "metadata": {
    "slideshow": {
     "slide_type": "fragment"
    }
   },
   "outputs": [
    {
     "name": "stdout",
     "output_type": "stream",
     "text": [
      "Word count persisted 1: 4.623121500015259\n",
      "Word count persisted 2: 1.1735703945159912\n"
     ]
    }
   ],
   "source": [
    "words_persisted.persist()\n",
    "t1 = time.time()\n",
    "words_persisted.count()\n",
    "print (\"Word count persisted 1:\",time.time() - t1)\n",
    "\n",
    "t1 = time.time()\n",
    "words_persisted.count()\n",
    "print (\"Word count persisted 2:\", time.time() - t1)\n"
   ]
  },
  {
   "cell_type": "markdown",
   "metadata": {
    "slideshow": {
     "slide_type": "subslide"
    }
   },
   "source": [
    "**Actions** are operations that return an object to the driver program or write to external storage, they kick a computation. *Examples:* first, count.\n",
    "\n",
    "Actions **force the evaluation** of the transformations required for the **RDD** they were called on, since they need to actually produce output.\n",
    "\n",
    "Other examples of actions:\n",
    "- take(num of elements)\n",
    "- collect() -> to get the WHOLE data set !"
   ]
  },
  {
   "cell_type": "code",
   "execution_count": 48,
   "metadata": {
    "slideshow": {
     "slide_type": "fragment"
    }
   },
   "outputs": [
    {
     "name": "stdout",
     "output_type": "stream",
     "text": [
      "Three elements [',Age[years],Sex,Weight[kg],Eye Color,Body Temperature[C]', 'individuum 1, 42, female, 52.9, brown, 36.9', 'individuum 2, 37, male, 87.0, green, 36.3']\n",
      ",Age[years],Sex,Weight[kg],Eye Color,Body Temperature[C]\n",
      "individuum 1, 42, female, 52.9, brown, 36.9\n",
      "individuum 2, 37, male, 87.0, green, 36.3\n",
      "individuum 3, 29, male, 82.1, blue, 36.4\n",
      "individuum 4, 61, female, 62.5, blue, 36.7\n",
      "individuum 5, 77, female, 55.5, gray, 36.6\n",
      "individuum 6, 33, male, 95.2, green, 36.5\n",
      "individuum 7, 32, female, 81.8, brown, 37.0\n",
      "individuum 8, 45, male, 78.9, brown, 36.3\n",
      "individuum 9, 18, male, 83.4, green, 36.6\n",
      "individuum 10, 19, male, 84.7, gray, 36.1\n"
     ]
    }
   ],
   "source": [
    "lines = sc.textFile(\"data/people.csv\")\n",
    "print (\"Three elements\", lines.take(3))\n",
    "for l in  lines.collect():\n",
    "    print(l)"
   ]
  },
  {
   "cell_type": "markdown",
   "metadata": {
    "slideshow": {
     "slide_type": "slide"
    }
   },
   "source": [
    "## 3 - Passing functions to Spark\n",
    "\n",
    "Most of Spark’s transformations, and some of its actions, depend on passing in functions that are used by Spark to compute data.\n",
    "\n",
    "In Python, we have three options for passing functions into Spark.\n",
    "\n",
    " *   For shorter functions, we can pass in lambda expressions\n",
    " *   We can pass in top-level functions, or\n",
    " *   Locally defined functions (that are evaluated within the scope of other functions)\n"
   ]
  },
  {
   "cell_type": "code",
   "execution_count": 49,
   "metadata": {
    "slideshow": {
     "slide_type": "subslide"
    }
   },
   "outputs": [
    {
     "name": "stdout",
     "output_type": "stream",
     "text": [
      "['', 'individuum 1', 'individuum 2', 'individuum 3', 'individuum 4', 'individuum 5', 'individuum 6', 'individuum 7', 'individuum 8', 'individuum 9', 'individuum 10']\n",
      "['', 'individuum 1', 'individuum 2', 'individuum 3', 'individuum 4', 'individuum 5', 'individuum 6', 'individuum 7', 'individuum 8', 'individuum 9', 'individuum 10']\n"
     ]
    }
   ],
   "source": [
    "lines = sc.textFile(\"data/people.csv\")\n",
    "\n",
    "first_cells = lines.map( lambda line : line.split(\",\")[0])\n",
    "print (first_cells.collect())\n",
    "\n",
    "def getFirstC(line):\n",
    "    return  line.split(\",\")[0]\n",
    "\n",
    "print ( lines.map(getFirstC).collect() )"
   ]
  },
  {
   "cell_type": "markdown",
   "metadata": {
    "slideshow": {
     "slide_type": "subslide"
    }
   },
   "source": [
    "If we want to have functions that work with different columns, we have to produce different \"instances\" of a same lambda function pattern"
   ]
  },
  {
   "cell_type": "code",
   "execution_count": 50,
   "metadata": {
    "slideshow": {
     "slide_type": "fragment"
    }
   },
   "outputs": [
    {
     "name": "stdout",
     "output_type": "stream",
     "text": [
      "['', 'individuum 1', 'individuum 2', 'individuum 3', 'individuum 4', 'individuum 5', 'individuum 6', 'individuum 7', 'individuum 8', 'individuum 9', 'individuum 10']\n",
      "['Age[years]', ' 42', ' 37', ' 29', ' 61', ' 77', ' 33', ' 32', ' 45', ' 18', ' 19']\n",
      "['Sex', ' female', ' male', ' male', ' female', ' female', ' male', ' female', ' male', ' male', ' male']\n"
     ]
    }
   ],
   "source": [
    "listofrdds = []\n",
    "\n",
    "# This can be done with this function, that returns a specific version of\n",
    "# a lambda function expression with a private copy of i\n",
    "def f(i):\n",
    "    return lambda x : x.split(\",\")[i]\n",
    "    \n",
    "for i in range(3):    \n",
    "    # create the spark transformation with functions linked to\n",
    "    # different values of i\n",
    "    listofrdds.append( lines.map( f(i) ) ) \n",
    "    \n",
    "for j in range(3):\n",
    "    print (listofrdds[j].collect())\n"
   ]
  },
  {
   "cell_type": "markdown",
   "metadata": {
    "slideshow": {
     "slide_type": "slide"
    }
   },
   "source": [
    "## 4 - Working with common Spark transformations\n",
    "Very common transformations you will likely be using are map() and filter():\n",
    "\n",
    "- The map() transformation takes in a function and applies it to each element in the RDD with the result of the function being the new value of each element in the resulting RDD.\n",
    "- An important variation of this function is mapPartitions(func), that is similar to map, but runs separately on each partition (block) of the RDD, so func must be of type Iterator_T => Iterator_U when running on an RDD of type T.\n",
    "- The filter() transformation takes in a function and returns an RDD that only has elements that pass the filter() function (a funtion that returns True/False)."
   ]
  },
  {
   "cell_type": "markdown",
   "metadata": {
    "slideshow": {
     "slide_type": "subslide"
    }
   },
   "source": [
    "A specific class of RDD is the class of RDDs where the elements are (key,value) pairs. They are used as a kind of basic distributed \"dictionary\", that is very useful to implement many algorithms"
   ]
  },
  {
   "cell_type": "code",
   "execution_count": 51,
   "metadata": {
    "slideshow": {
     "slide_type": "fragment"
    }
   },
   "outputs": [
    {
     "name": "stdout",
     "output_type": "stream",
     "text": [
      "[(1, 1), (0, 1), (1, 1), (0, 1), (1, 1), (0, 1), (1, 1), (0, 1), (1, 1), (0, 1)]\n"
     ]
    },
    {
     "data": {
      "text/plain": [
       "[('even numbers:', 5), ('odd numbers:', 5)]"
      ]
     },
     "execution_count": 51,
     "metadata": {},
     "output_type": "execute_result"
    }
   ],
   "source": [
    "# Counting odd and even numbers\n",
    "rddNumbers = sc.parallelize( [1,2,3,4,5,6,7,8,9,10])\n",
    "rddEvenOdd = rddNumbers.map( lambda x : (x % 2,1) )\n",
    "# Now, every odd number is mapped to (1,1) and every even one to (0,1)\n",
    "print(rddEvenOdd.collect())\n",
    "countHowMany = rddEvenOdd.reduceByKey( lambda x,y : x+y )\n",
    "# Change keys to more \"human\" redeable ones\n",
    "countHowMany.map( lambda x : ('even numbers:',x[1]) if not x[0] else ('odd numbers:',x[1]) ).collect()"
   ]
  },
  {
   "cell_type": "markdown",
   "metadata": {
    "slideshow": {
     "slide_type": "subslide"
    }
   },
   "source": [
    "Working with more than one RDD at the same time, we can implement even more powerful algorithms. Imagine an RDD with pairs of kind (personA,personB) whith the meaning \"personA\" would like to meet with \"personB\". How can we produce a list of all pairs (A,B) such that A wants to meet with B and vice versa?"
   ]
  },
  {
   "cell_type": "code",
   "execution_count": 52,
   "metadata": {
    "slideshow": {
     "slide_type": "fragment"
    }
   },
   "outputs": [
    {
     "data": {
      "text/plain": [
       "[(('a', 'b'), ('a', 'b')),\n",
       " (('a', 'b'), ('a', 'c')),\n",
       " (('a', 'b'), ('b', 'a')),\n",
       " (('a', 'b'), ('c', 'a')),\n",
       " (('a', 'c'), ('a', 'b')),\n",
       " (('a', 'c'), ('a', 'c')),\n",
       " (('a', 'c'), ('b', 'a')),\n",
       " (('a', 'c'), ('c', 'a')),\n",
       " (('b', 'a'), ('a', 'b')),\n",
       " (('b', 'a'), ('a', 'c')),\n",
       " (('b', 'a'), ('b', 'a')),\n",
       " (('b', 'a'), ('c', 'a')),\n",
       " (('c', 'a'), ('a', 'b')),\n",
       " (('c', 'a'), ('a', 'c')),\n",
       " (('c', 'a'), ('b', 'a')),\n",
       " (('c', 'a'), ('c', 'a'))]"
      ]
     },
     "execution_count": 52,
     "metadata": {},
     "output_type": "execute_result"
    }
   ],
   "source": [
    "rddPersonLikes = sc.parallelize( [('a','b'), ('a','c') , ('b','a'), ('c','a') ] )\n",
    "rddAllPairs = rddPersonLikes.cartesian(rddPersonLikes)\n",
    "rddAllPairs.collect()"
   ]
  },
  {
   "cell_type": "code",
   "execution_count": 53,
   "metadata": {
    "slideshow": {
     "slide_type": "subslide"
    }
   },
   "outputs": [
    {
     "data": {
      "text/plain": [
       "[(('a', 'b'), ('b', 'a')),\n",
       " (('a', 'c'), ('c', 'a')),\n",
       " (('b', 'a'), ('a', 'b')),\n",
       " (('c', 'a'), ('a', 'c'))]"
      ]
     },
     "execution_count": 53,
     "metadata": {},
     "output_type": "execute_result"
    }
   ],
   "source": [
    "matchedRDD = rddAllPairs.filter( lambda x : x[0][0] == x[1][1] and x[0][1] == x[1][0]  )\n",
    "matchedRDD.collect()"
   ]
  },
  {
   "cell_type": "markdown",
   "metadata": {
    "slideshow": {
     "slide_type": "fragment"
    }
   },
   "source": [
    "But observe that every pair of matched people appears two times in the final filtered dataset. Can you fix this? Can you *feel* the shuffling in the cartesian transformation?"
   ]
  },
  {
   "cell_type": "markdown",
   "metadata": {
    "slideshow": {
     "slide_type": "subslide"
    }
   },
   "source": [
    "Another useful transformation, that also works with two (key,value) RDDs , is the join transformation. For every (key,Val1) in the left RDD and (key,Val2) in the right RDD, it produces the pair (key,(Val1,Val2)) in the resulting RDD:"
   ]
  },
  {
   "cell_type": "code",
   "execution_count": 54,
   "metadata": {
    "slideshow": {
     "slide_type": "fragment"
    }
   },
   "outputs": [
    {
     "data": {
      "text/plain": [
       "[('john', (['A', 'B'], ['J', 'H'])), ('Ana', (['B', 'C'], ['P', 'Q']))]"
      ]
     },
     "execution_count": 54,
     "metadata": {},
     "output_type": "execute_result"
    }
   ],
   "source": [
    "rddNetFlix = sc.parallelize( [('john',['A','B']),('Ana',['B','C'])] )\n",
    "rddPrimeVideo = sc.parallelize( [('john',['J','H']),('Ana',['P','Q'])] )\n",
    "joinByKeyRDD = rddNetFlix.join( rddPrimeVideo )\n",
    "joinByKeyRDD.collect()"
   ]
  },
  {
   "cell_type": "markdown",
   "metadata": {
    "slideshow": {
     "slide_type": "fragment"
    }
   },
   "source": [
    "Observe that we get only one element per person, because each person appears only once in every input RDD."
   ]
  },
  {
   "cell_type": "markdown",
   "metadata": {
    "slideshow": {
     "slide_type": "subslide"
    }
   },
   "source": [
    "But if there are elements with the same key in some of the RDDs, observe what happens:"
   ]
  },
  {
   "cell_type": "code",
   "execution_count": 55,
   "metadata": {
    "slideshow": {
     "slide_type": "fragment"
    }
   },
   "outputs": [
    {
     "data": {
      "text/plain": [
       "[('john', (['A', 'B'], ['J', 'H'])),\n",
       " ('Ana', (['B', 'C'], ['P', 'Q'])),\n",
       " ('Ana', (['B', 'C'], ['R', 'S']))]"
      ]
     },
     "execution_count": 55,
     "metadata": {},
     "output_type": "execute_result"
    }
   ],
   "source": [
    "rddNetFlix = sc.parallelize( [('john',['A','B']),('Ana',['B','C'])] )\n",
    "rddPrimeVideo = sc.parallelize( [('john',['J','H']),('Ana',['P','Q']),('Ana',['R','S'])] )\n",
    "joinByKeyRDD = rddNetFlix.join( rddPrimeVideo )\n",
    "joinByKeyRDD.collect()"
   ]
  },
  {
   "cell_type": "markdown",
   "metadata": {
    "slideshow": {
     "slide_type": "fragment"
    }
   },
   "source": [
    "Yes, but if this is not what we desire, it can be fixed using aggregation!"
   ]
  },
  {
   "cell_type": "markdown",
   "metadata": {
    "slideshow": {
     "slide_type": "slide"
    }
   },
   "source": [
    "## 5 - Working with spark dataframes\n",
    "\n",
    "For working with some structure in the datasets, we can use spark dataframes, and now each element is a record with a same set of columns, where each column will have a type:"
   ]
  },
  {
   "cell_type": "code",
   "execution_count": 56,
   "metadata": {
    "slideshow": {
     "slide_type": "fragment"
    }
   },
   "outputs": [],
   "source": [
    "# Remember:  sqlCtx = pyspark.sql.SparkSession(sc)\n",
    "peopleDF = sqlCtx.read.json('data/people-binfo.json')\n",
    "peopleHobbiesDF = sqlCtx.read.json('data/people-hobbies.json')"
   ]
  },
  {
   "cell_type": "code",
   "execution_count": 57,
   "metadata": {
    "slideshow": {
     "slide_type": "subslide"
    }
   },
   "outputs": [
    {
     "name": "stdout",
     "output_type": "stream",
     "text": [
      "root\n",
      " |-- age: long (nullable = true)\n",
      " |-- gender: string (nullable = true)\n",
      " |-- name: string (nullable = true)\n",
      "\n",
      "root\n",
      " |-- hobbies: array (nullable = true)\n",
      " |    |-- element: long (containsNull = true)\n",
      " |-- name: string (nullable = true)\n",
      "\n"
     ]
    }
   ],
   "source": [
    "peopleDF.printSchema()\n",
    "peopleHobbiesDF.printSchema()"
   ]
  },
  {
   "cell_type": "markdown",
   "metadata": {
    "slideshow": {
     "slide_type": "subslide"
    }
   },
   "source": [
    "There are other ways to make dataframes. Like for example, from a csv file."
   ]
  },
  {
   "cell_type": "code",
   "execution_count": 58,
   "metadata": {
    "slideshow": {
     "slide_type": "fragment"
    }
   },
   "outputs": [
    {
     "name": "stdout",
     "output_type": "stream",
     "text": [
      "root\n",
      " |-- Country (en): string (nullable = true)\n",
      " |-- Country (de): string (nullable = true)\n",
      " |-- Country (local): string (nullable = true)\n",
      " |-- Country code: string (nullable = true)\n",
      " |-- Continent: string (nullable = true)\n",
      " |-- Capital: string (nullable = true)\n",
      " |-- Population: string (nullable = true)\n",
      " |-- Area: string (nullable = true)\n",
      " |-- Coastline: string (nullable = true)\n",
      " |-- Government form: string (nullable = true)\n",
      " |-- Currency: string (nullable = true)\n",
      " |-- Currency code: string (nullable = true)\n",
      " |-- Dialing prefix: string (nullable = true)\n",
      " |-- Birthrate: string (nullable = true)\n",
      " |-- Deathrate: string (nullable = true)\n",
      " |-- Life expectancy: string (nullable = true)\n",
      " |-- Url: string (nullable = true)\n",
      "\n"
     ]
    }
   ],
   "source": [
    "countriesDF = sqlCtx.read.option(\"header\", \"true\").option(\"delimiter\", \";\").csv('data/countries_data.csv')\n",
    "countriesDF.printSchema()"
   ]
  },
  {
   "cell_type": "markdown",
   "metadata": {
    "slideshow": {
     "slide_type": "subslide"
    }
   },
   "source": [
    "We can always get a transformed version of a dataframe, where we change the type for some columns:"
   ]
  },
  {
   "cell_type": "code",
   "execution_count": 59,
   "metadata": {
    "slideshow": {
     "slide_type": "fragment"
    }
   },
   "outputs": [
    {
     "name": "stdout",
     "output_type": "stream",
     "text": [
      "root\n",
      " |-- Country (en): string (nullable = true)\n",
      " |-- Country (de): string (nullable = true)\n",
      " |-- Country (local): string (nullable = true)\n",
      " |-- Country code: string (nullable = true)\n",
      " |-- Continent: string (nullable = true)\n",
      " |-- Capital: string (nullable = true)\n",
      " |-- Population: string (nullable = true)\n",
      " |-- Area: string (nullable = true)\n",
      " |-- Coastline: string (nullable = true)\n",
      " |-- Government form: string (nullable = true)\n",
      " |-- Currency: string (nullable = true)\n",
      " |-- Currency code: string (nullable = true)\n",
      " |-- Dialing prefix: string (nullable = true)\n",
      " |-- Birthrate: float (nullable = true)\n",
      " |-- Deathrate: string (nullable = true)\n",
      " |-- Life expectancy: string (nullable = true)\n",
      " |-- Url: string (nullable = true)\n",
      "\n"
     ]
    },
    {
     "data": {
      "text/plain": [
       "Row(Country (en)='Egypt', Country (de)='Ägypten', Country (local)='Misr', Country code='EG', Continent='Africa', Capital=None, Population='88487396', Area='1001450', Coastline='2450', Government form='republic', Currency='Pfund', Currency code='EGP', Dialing prefix='20', Birthrate=22.899999618530273, Deathrate='4.8', Life expectancy='73.7', Url='https://www.laenderdaten.info/Afrika/Aegypten/index.php')"
      ]
     },
     "execution_count": 59,
     "metadata": {},
     "output_type": "execute_result"
    }
   ],
   "source": [
    "from pyspark.sql.types import FloatType\n",
    "from pyspark.sql import functions as SQLF\n",
    "countriesDF = countriesDF.withColumn(\"Birthrate\",SQLF.col(\"Birthrate\").cast(FloatType()))\n",
    "countriesDF.printSchema()\n",
    "countriesDF.take(2)[1]"
   ]
  },
  {
   "cell_type": "markdown",
   "metadata": {
    "slideshow": {
     "slide_type": "subslide"
    }
   },
   "source": [
    "We can show on the driver program the WHOLE dataframe with show():"
   ]
  },
  {
   "cell_type": "code",
   "execution_count": 60,
   "metadata": {
    "slideshow": {
     "slide_type": "fragment"
    }
   },
   "outputs": [
    {
     "name": "stdout",
     "output_type": "stream",
     "text": [
      "+---+------+-------+\n",
      "|age|gender|   name|\n",
      "+---+------+-------+\n",
      "| 47|     M|Michael|\n",
      "| 30|     M|   Andy|\n",
      "| 19|     F|  Jenny|\n",
      "+---+------+-------+\n",
      "\n",
      "+----------------+-------+\n",
      "|         hobbies|   name|\n",
      "+----------------+-------+\n",
      "|    [4, 5, 6, 7]|Michael|\n",
      "|[4, 5, 8, 7, 10]|   Andy|\n",
      "|[4, 5, 6, 7, 10]|  Jenny|\n",
      "+----------------+-------+\n",
      "\n"
     ]
    }
   ],
   "source": [
    "peopleDF.show()\n",
    "peopleHobbiesDF.show()"
   ]
  },
  {
   "cell_type": "markdown",
   "metadata": {
    "slideshow": {
     "slide_type": "subslide"
    }
   },
   "source": [
    "Suppose we want to join the info of each person with his set of hobbies. We can do this with the join function, indicating that the column to be used for joining two rows is the \"name\" column:"
   ]
  },
  {
   "cell_type": "code",
   "execution_count": 61,
   "metadata": {
    "slideshow": {
     "slide_type": "fragment"
    }
   },
   "outputs": [
    {
     "name": "stdout",
     "output_type": "stream",
     "text": [
      "+-------+---+------+----------------+\n",
      "|   name|age|gender|         hobbies|\n",
      "+-------+---+------+----------------+\n",
      "|Michael| 47|     M|    [4, 5, 6, 7]|\n",
      "|   Andy| 30|     M|[4, 5, 8, 7, 10]|\n",
      "|  Jenny| 19|     F|[4, 5, 6, 7, 10]|\n",
      "+-------+---+------+----------------+\n",
      "\n",
      "root\n",
      " |-- name: string (nullable = true)\n",
      " |-- age: long (nullable = true)\n",
      " |-- gender: string (nullable = true)\n",
      " |-- hobbies: array (nullable = true)\n",
      " |    |-- element: long (containsNull = true)\n",
      "\n"
     ]
    }
   ],
   "source": [
    "joined = peopleDF.join(peopleHobbiesDF, [ \"name\" ])\n",
    "joined.show()\n",
    "joined.printSchema()"
   ]
  },
  {
   "cell_type": "markdown",
   "metadata": {
    "slideshow": {
     "slide_type": "subslide"
    }
   },
   "source": [
    "Now suppose we have a list of *target* (interesting) hobbies on an another dataframe"
   ]
  },
  {
   "cell_type": "code",
   "execution_count": 62,
   "metadata": {
    "slideshow": {
     "slide_type": "fragment"
    }
   },
   "outputs": [
    {
     "name": "stdout",
     "output_type": "stream",
     "text": [
      "+-------+\n",
      "|thobbie|\n",
      "+-------+\n",
      "|      4|\n",
      "|      8|\n",
      "|     10|\n",
      "+-------+\n",
      "\n"
     ]
    }
   ],
   "source": [
    "dfTHobbies =  sqlCtx.read.json('data/target-hobbies.json')\n",
    "dfTHobbies.show()"
   ]
  },
  {
   "cell_type": "markdown",
   "metadata": {
    "slideshow": {
     "slide_type": "fragment"
    }
   },
   "source": [
    " And we would like to filter the hobbies of our people data frame with this list. We can use again a join operation, but now using as filtering predicate a spark sql function: array_contains(array,element)"
   ]
  },
  {
   "cell_type": "code",
   "execution_count": 63,
   "metadata": {
    "slideshow": {
     "slide_type": "subslide"
    }
   },
   "outputs": [
    {
     "name": "stdout",
     "output_type": "stream",
     "text": [
      "+-------+---+------+----------------+-------+\n",
      "|   name|age|gender|         hobbies|thobbie|\n",
      "+-------+---+------+----------------+-------+\n",
      "|Michael| 47|     M|    [4, 5, 6, 7]|      4|\n",
      "|   Andy| 30|     M|[4, 5, 8, 7, 10]|      4|\n",
      "|   Andy| 30|     M|[4, 5, 8, 7, 10]|      8|\n",
      "|   Andy| 30|     M|[4, 5, 8, 7, 10]|     10|\n",
      "|  Jenny| 19|     F|[4, 5, 6, 7, 10]|      4|\n",
      "|  Jenny| 19|     F|[4, 5, 6, 7, 10]|     10|\n",
      "+-------+---+------+----------------+-------+\n",
      "\n"
     ]
    }
   ],
   "source": [
    "from pyspark.sql.functions import array_contains\n",
    "filtered = joined.join(dfTHobbies, array_contains(joined.hobbies,dfTHobbies.thobbie) )\n",
    "filtered.show()"
   ]
  },
  {
   "cell_type": "markdown",
   "metadata": {
    "slideshow": {
     "slide_type": "fragment"
    }
   },
   "source": [
    "Well, this is almost what we wanted, except that the record for a same person appears repeated, once per every target hobby he has in his list. Ok, but this can be fixed. How?"
   ]
  },
  {
   "cell_type": "markdown",
   "metadata": {
    "slideshow": {
     "slide_type": "slide"
    }
   },
   "source": [
    "### Exercises\n",
    "\n",
    "**Exercise 1:** Map every list of words in the RDD lines_nonempty to a list of pairs (word,frequency), with one pair per every different word in the input list, and with frquency being equal to the relative frequency of the word in the input list.\n",
    "\n",
    "**Exercise 2:** Starting from the resulting RDD of the previous exercise, compute the average frequency of every word (among the different lines where the word appears). \n",
    "\n",
    "**Exercise 3:** Fix the example of the cartesian product, to have every pair of matched people to appear only once in the final RDD.\n",
    "\n",
    "**Exercise 4:** Given an input RDD D, explain how to produce the cartesian product:\n",
    "$$ \\{ (a,b,c) | a \\in D, b \\in D, c \\in D\\} $$\n",
    "using the cartesian tranformation we have seen in the examples.\n",
    "\n",
    "**Exercise 5:** Fix the second example about joining two RDDs with the join transformation, where we get the result:\n",
    "\n",
    "[('john', (['A', 'B'], ['J', 'H'])), ('Ana', (['B', 'C'], ['P', 'Q'])),  ('Ana', (['B', 'C'], ['R', 'S']))]\n",
    "\n",
    "\n",
    "To have only one element per person, where the value associated with the person will be the concatenation of all his lists of values. There is already a transformation, RDD1.cogroup(RDD2), that does this well, but I want that you fix the resulting RDD of the example using aggregation to eliminate repetitions.\n",
    "\n",
    "**Exercise 6:** Find a solution to get a final dataframe for the example of the hobbies, with only one record per person, and that contains the collected list of his hobbies that belong to the target list. Check the documentation of the functions groupBy() and agg() and the spark sql function collect_list()."
   ]
  }
 ],
 "metadata": {
  "anaconda-cloud": {},
  "celltoolbar": "Slideshow",
  "kernelspec": {
   "display_name": "Python 3",
   "language": "python",
   "name": "python3"
  },
  "language_info": {
   "codemirror_mode": {
    "name": "ipython",
    "version": 3
   },
   "file_extension": ".py",
   "mimetype": "text/x-python",
   "name": "python",
   "nbconvert_exporter": "python",
   "pygments_lexer": "ipython3",
   "version": "3.7.6"
  },
  "rise": {
   "enable_chalkboard": true,
   "scroll": true
  }
 },
 "nbformat": 4,
 "nbformat_minor": 1
}
